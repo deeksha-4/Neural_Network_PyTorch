{
  "nbformat": 4,
  "nbformat_minor": 0,
  "metadata": {
    "colab": {
      "provenance": [],
      "authorship_tag": "ABX9TyOwoaMmCItDN4at1Co0IOip",
      "include_colab_link": true
    },
    "kernelspec": {
      "name": "python3",
      "display_name": "Python 3"
    },
    "language_info": {
      "name": "python"
    }
  },
  "cells": [
    {
      "cell_type": "markdown",
      "metadata": {
        "id": "view-in-github",
        "colab_type": "text"
      },
      "source": [
        "<a href=\"https://colab.research.google.com/github/deeksha-4/Projects/blob/main/Neural_Network_PyTorch/PyTorch_NN.ipynb\" target=\"_parent\"><img src=\"https://colab.research.google.com/assets/colab-badge.svg\" alt=\"Open In Colab\"/></a>"
      ]
    },
    {
      "cell_type": "markdown",
      "source": [
        "# **Neural Network using PyTorch**\n",
        "\n",
        "In this project, I have used PyTorch to implement a neural network that can perform binary classification on a set of images (is/is not)"
      ],
      "metadata": {
        "id": "JYrXLn2a6kWT"
      }
    },
    {
      "cell_type": "code",
      "source": [
        "from google.colab import drive\n",
        "drive.mount('/content/drive')"
      ],
      "metadata": {
        "colab": {
          "base_uri": "https://localhost:8080/"
        },
        "id": "6XN7trME6k05",
        "outputId": "82be21b5-74de-475a-f398-a2f0b108a20c"
      },
      "execution_count": 1,
      "outputs": [
        {
          "output_type": "stream",
          "name": "stdout",
          "text": [
            "Mounted at /content/drive\n"
          ]
        }
      ]
    },
    {
      "cell_type": "code",
      "source": [
        "# importing the libraries\n",
        "\n",
        "import os\n",
        "import numpy as np\n",
        "import torch\n",
        "import torch.nn as nn\n",
        "import matplotlib.pyplot as plt\n",
        "import matplotlib.image as mpimg\n",
        "%matplotlib inline"
      ],
      "metadata": {
        "id": "o8es8WZE7xx5"
      },
      "execution_count": 2,
      "outputs": []
    },
    {
      "cell_type": "code",
      "source": [
        "# loading the dataset\n",
        "\n",
        "def getdata(path):\n",
        "  data = torch.tensor([])\n",
        "  file_list = os.listdir(path)\n",
        "  for file_name in file_list[:350]:\n",
        "    image_path = os.path.join(path, file_name)\n",
        "    image = mpimg.imread(image_path)\n",
        "    imageData = torch.from_numpy(image).long()\n",
        "    data = torch.cat((data, imageData.unsqueeze(0)), dim=0)\n",
        "  return data\n",
        "\n",
        "pizza_path = '/content/drive/MyDrive/pizza_vs_not/pizza'\n",
        "not_pizza_path = '/content/drive/MyDrive/pizza_vs_not/not_pizza'\n",
        "\n",
        "not_pizza_data = getdata(not_pizza_path)\n",
        "pizza_data = getdata(pizza_path)"
      ],
      "metadata": {
        "colab": {
          "base_uri": "https://localhost:8080/"
        },
        "id": "lbxyzScf76Nx",
        "outputId": "29187ced-e1b7-4a54-d999-8db3295db25f"
      },
      "execution_count": 3,
      "outputs": [
        {
          "output_type": "stream",
          "name": "stderr",
          "text": [
            "<ipython-input-3-74fa5da8071c>:9: UserWarning: The given NumPy array is not writable, and PyTorch does not support non-writable tensors. This means writing to this tensor will result in undefined behavior. You may want to copy the array to protect its data or make it writable before converting it to a tensor. This type of warning will be suppressed for the rest of this program. (Triggered internally at ../torch/csrc/utils/tensor_numpy.cpp:206.)\n",
            "  imageData = torch.from_numpy(image).long()\n"
          ]
        }
      ]
    },
    {
      "cell_type": "code",
      "source": [
        "# splitting into train and test data\n",
        "\n",
        "train_data = torch.cat((pizza_data[:300], not_pizza_data[:200]), dim = 0)\n",
        "test_data = torch.cat((pizza_data[300:350], not_pizza_data[200:250]), dim = 0)"
      ],
      "metadata": {
        "id": "ikhBfguu8PGK"
      },
      "execution_count": 4,
      "outputs": []
    },
    {
      "cell_type": "code",
      "source": [
        "# reshaping\n",
        "\n",
        "reshaped_train_data = torch.reshape(train_data, (500, 64*64*3))\n",
        "reshaped_test_data = torch.reshape(test_data, (100, 64*64*3))\n",
        "final_train_data = reshaped_train_data/255\n",
        "final_test_data = reshaped_test_data/255\n",
        "\n",
        "print(final_train_data.shape, final_test_data.shape)"
      ],
      "metadata": {
        "colab": {
          "base_uri": "https://localhost:8080/"
        },
        "id": "Q3HGYJU98X5v",
        "outputId": "f8b9815e-490b-4215-b79d-4490b6e29124"
      },
      "execution_count": 7,
      "outputs": [
        {
          "output_type": "stream",
          "name": "stdout",
          "text": [
            "torch.Size([500, 12288]) torch.Size([100, 12288])\n"
          ]
        }
      ]
    },
    {
      "cell_type": "code",
      "source": [
        "# creating labels\n",
        "\n",
        "train_labels = torch.reshape(torch.cat((torch.ones(300), torch.zeros(200)), axis = 0), (500, 1))\n",
        "test_labels = torch.reshape(torch.cat((torch.ones(50), torch.zeros(50)), axis = 0), (100, 1))\n",
        "\n",
        "print(train_labels.shape, test_labels.shape)"
      ],
      "metadata": {
        "colab": {
          "base_uri": "https://localhost:8080/"
        },
        "id": "9AJDfglu8ie1",
        "outputId": "f8a03158-1504-4e16-daee-7c81d9e1930d"
      },
      "execution_count": 9,
      "outputs": [
        {
          "output_type": "stream",
          "name": "stdout",
          "text": [
            "torch.Size([500, 1]) torch.Size([100, 1])\n"
          ]
        }
      ]
    },
    {
      "cell_type": "code",
      "source": [
        "# building the neural network\n",
        "\n",
        "# initializing hyperparameters\n",
        "D_in = 64*64*3\n",
        "H1 = 10\n",
        "H2 = 12\n",
        "D_out = 1\n",
        "\n",
        "# defining the model\n",
        "model = torch.nn.Sequential(\n",
        "    nn.Linear(D_in, H1),\n",
        "    nn.ReLU(),\n",
        "    nn.Linear(H1, H2),\n",
        "    nn.ReLU(),\n",
        "    nn.Linear(H2, D_out),\n",
        "    nn.Sigmoid()\n",
        ")"
      ],
      "metadata": {
        "id": "wvtk2cfe8utI"
      },
      "execution_count": 11,
      "outputs": []
    },
    {
      "cell_type": "code",
      "source": [
        "# training the model\n",
        "\n",
        "loss_fn = nn.BCELoss()\n",
        "learning_rate = 0.005\n",
        "iterations = 10000\n",
        "\n",
        "for i in range(iterations):\n",
        "  y_pred = model(final_train_data)\n",
        "  loss = loss_fn(y_pred, train_labels)\n",
        "\n",
        "  if i%1000 == 1:\n",
        "    print(loss)\n",
        "\n",
        "  model.zero_grad()\n",
        "  loss.backward()\n",
        "  with torch.no_grad():\n",
        "    for p in model.parameters():\n",
        "      p -= learning_rate * p.grad\n",
        "  torch.save(model, 'model_best.pt')"
      ],
      "metadata": {
        "colab": {
          "base_uri": "https://localhost:8080/"
        },
        "id": "B-WbRoosBOzU",
        "outputId": "3316d416-d00e-4bd4-c823-63a5641e0955"
      },
      "execution_count": 13,
      "outputs": [
        {
          "output_type": "stream",
          "name": "stdout",
          "text": [
            "tensor(0.6858, grad_fn=<BinaryCrossEntropyBackward0>)\n",
            "tensor(0.2828, grad_fn=<BinaryCrossEntropyBackward0>)\n",
            "tensor(0.1038, grad_fn=<BinaryCrossEntropyBackward0>)\n",
            "tensor(0.0418, grad_fn=<BinaryCrossEntropyBackward0>)\n",
            "tensor(0.0224, grad_fn=<BinaryCrossEntropyBackward0>)\n",
            "tensor(0.0126, grad_fn=<BinaryCrossEntropyBackward0>)\n",
            "tensor(0.0067, grad_fn=<BinaryCrossEntropyBackward0>)\n",
            "tensor(0.0044, grad_fn=<BinaryCrossEntropyBackward0>)\n",
            "tensor(0.0032, grad_fn=<BinaryCrossEntropyBackward0>)\n",
            "tensor(0.0025, grad_fn=<BinaryCrossEntropyBackward0>)\n"
          ]
        }
      ]
    },
    {
      "cell_type": "code",
      "source": [
        "# testing\n",
        "\n",
        "index = 49\n",
        "plt.imshow(test_data[index].int())\n",
        "print(f'Index {index} is {\"a pizza\" if model(final_test_data[index]) > 0.5 else \"not a pizza\"}' )"
      ],
      "metadata": {
        "colab": {
          "base_uri": "https://localhost:8080/",
          "height": 449
        },
        "id": "2iWJWw9dFm_Z",
        "outputId": "34950ab9-a760-4150-d121-7c7c700a56d7"
      },
      "execution_count": 14,
      "outputs": [
        {
          "output_type": "stream",
          "name": "stdout",
          "text": [
            "Index 49 is a pizza\n"
          ]
        },
        {
          "output_type": "display_data",
          "data": {
            "text/plain": [
              "<Figure size 640x480 with 1 Axes>"
            ],
            "image/png": "[encoded data removed]"
          },
          "metadata": {}
        }
      ]
    },
    {
      "cell_type": "code",
      "source": [
        "# calculating accuracy\n",
        "\n",
        "def predict(model, data, labels):\n",
        "    probabilities = model(data)\n",
        "    predictions = (probabilities > 0.5).float()\n",
        "    print(str(torch.sum((predictions == labels)).item()/predictions.shape[0]))\n",
        "\n",
        "print(\"Training accuracy: \", end = '')\n",
        "predict(model, final_train_data, train_labels)\n",
        "print(\"Testing accuracy: \", end = '')\n",
        "predict(model,final_test_data,test_labels)"
      ],
      "metadata": {
        "colab": {
          "base_uri": "https://localhost:8080/"
        },
        "id": "EJsQSkQRGZpQ",
        "outputId": "4f3a9a60-c6e0-494e-aaca-582b7d048173"
      },
      "execution_count": 15,
      "outputs": [
        {
          "output_type": "stream",
          "name": "stdout",
          "text": [
            "Training accuracy: 1.0\n",
            "Testing accuracy: 0.77\n"
          ]
        }
      ]
    }
  ]
}